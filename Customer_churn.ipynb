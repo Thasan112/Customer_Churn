{
  "metadata": {
    "kernelspec": {
      "language": "python",
      "display_name": "Python 3",
      "name": "python3"
    },
    "language_info": {
      "name": "python",
      "version": "3.11.11",
      "mimetype": "text/x-python",
      "codemirror_mode": {
        "name": "ipython",
        "version": 3
      },
      "pygments_lexer": "ipython3",
      "nbconvert_exporter": "python",
      "file_extension": ".py"
    },
    "kaggle": {
      "accelerator": "none",
      "dataSources": [
        {
          "sourceId": 1030103,
          "sourceType": "datasetVersion",
          "datasetId": 567482
        }
      ],
      "isInternetEnabled": false,
      "language": "python",
      "sourceType": "notebook",
      "isGpuEnabled": false
    },
    "colab": {
      "name": "Customer_churn",
      "provenance": [],
      "include_colab_link": true
    }
  },
  "nbformat_minor": 0,
  "nbformat": 4,
  "cells": [
    {
      "cell_type": "markdown",
      "metadata": {
        "id": "view-in-github",
        "colab_type": "text"
      },
      "source": [
        "<a href=\"https://colab.research.google.com/github/Thasan112/Customer_Churn/blob/main/Customer_churn.ipynb\" target=\"_parent\"><img src=\"https://colab.research.google.com/assets/colab-badge.svg\" alt=\"Open In Colab\"/></a>"
      ]
    },
    {
      "source": [
        "# IMPORTANT: RUN THIS CELL IN ORDER TO IMPORT YOUR KAGGLE DATA SOURCES,\n",
        "# THEN FEEL FREE TO DELETE THIS CELL.\n",
        "# NOTE: THIS NOTEBOOK ENVIRONMENT DIFFERS FROM KAGGLE'S PYTHON\n",
        "# ENVIRONMENT SO THERE MAY BE MISSING LIBRARIES USED BY YOUR\n",
        "# NOTEBOOK.\n",
        "import kagglehub\n",
        "barun2104_telecom_churn_path = kagglehub.dataset_download('barun2104/telecom-churn')\n",
        "\n",
        "print('Data source import complete.')\n"
      ],
      "metadata": {
        "id": "BiIfxJ_HaPvw"
      },
      "cell_type": "code",
      "outputs": [],
      "execution_count": null
    },
    {
      "cell_type": "code",
      "source": [
        "# This Python 3 environment comes with many helpful analytics libraries installed\n",
        "# It is defined by the kaggle/python Docker image: https://github.com/kaggle/docker-python\n",
        "# For example, here's several helpful packages to load\n",
        "\n",
        "import numpy as np # linear algebra\n",
        "import pandas as pd # data processing, CSV file I/O (e.g. pd.read_csv)\n",
        "\n",
        "# Input data files are available in the read-only \"../input/\" directory\n",
        "# For example, running this (by clicking run or pressing Shift+Enter) will list all files under the input directory\n",
        "\n",
        "import os\n",
        "for dirname, _, filenames in os.walk('/kaggle/input'):\n",
        "    for filename in filenames:\n",
        "        print(os.path.join(dirname, filename))\n",
        "\n",
        "# You can write up to 20GB to the current directory (/kaggle/working/) that gets preserved as output when you create a version using \"Save & Run All\"\n",
        "# You can also write temporary files to /kaggle/temp/, but they won't be saved outside of the current session"
      ],
      "metadata": {
        "_uuid": "8f2839f25d086af736a60e9eeb907d3b93b6e0e5",
        "_cell_guid": "b1076dfc-b9ad-4769-8c92-a6c4dae69d19",
        "trusted": true,
        "execution": {
          "iopub.status.busy": "2025-05-07T01:16:46.629684Z",
          "iopub.execute_input": "2025-05-07T01:16:46.630471Z",
          "iopub.status.idle": "2025-05-07T01:16:46.966436Z",
          "shell.execute_reply.started": "2025-05-07T01:16:46.630443Z",
          "shell.execute_reply": "2025-05-07T01:16:46.965469Z"
        },
        "id": "q_iHmYsiaPv0"
      },
      "outputs": [],
      "execution_count": null
    },
    {
      "cell_type": "code",
      "source": [
        "import os\n",
        "for dirname, _, filenames in os.walk('/kaggle/input'):\n",
        "    for filename in filenames:\n",
        "        print(os.path.join(dirname, filename))"
      ],
      "metadata": {
        "trusted": true,
        "execution": {
          "iopub.status.busy": "2025-05-07T01:16:46.967303Z",
          "iopub.execute_input": "2025-05-07T01:16:46.967943Z",
          "iopub.status.idle": "2025-05-07T01:16:46.973549Z",
          "shell.execute_reply.started": "2025-05-07T01:16:46.967912Z",
          "shell.execute_reply": "2025-05-07T01:16:46.972415Z"
        },
        "id": "lq6iF93FaPv0"
      },
      "outputs": [],
      "execution_count": null
    },
    {
      "cell_type": "markdown",
      "source": [
        "Explore data"
      ],
      "metadata": {
        "id": "fHGqGyKgaPv1"
      }
    },
    {
      "cell_type": "code",
      "source": [
        "import pandas as pd\n",
        "\n",
        "df = pd.read_csv('/kaggle/input/telecom-churn/telecom_churn.csv')\n",
        "\n",
        "df.head()\n",
        "\n"
      ],
      "metadata": {
        "trusted": true,
        "execution": {
          "iopub.status.busy": "2025-05-07T01:16:46.975844Z",
          "iopub.execute_input": "2025-05-07T01:16:46.9764Z",
          "iopub.status.idle": "2025-05-07T01:16:47.039757Z",
          "shell.execute_reply.started": "2025-05-07T01:16:46.976373Z",
          "shell.execute_reply": "2025-05-07T01:16:47.038895Z"
        },
        "id": "XoBL8VI1aPv3"
      },
      "outputs": [],
      "execution_count": null
    },
    {
      "cell_type": "code",
      "source": [
        "df.info()"
      ],
      "metadata": {
        "trusted": true,
        "execution": {
          "iopub.status.busy": "2025-05-07T01:16:47.04038Z",
          "iopub.execute_input": "2025-05-07T01:16:47.040651Z",
          "iopub.status.idle": "2025-05-07T01:16:47.063856Z",
          "shell.execute_reply.started": "2025-05-07T01:16:47.040624Z",
          "shell.execute_reply": "2025-05-07T01:16:47.062694Z"
        },
        "id": "3Y8MKpG7aPv4"
      },
      "outputs": [],
      "execution_count": null
    },
    {
      "cell_type": "code",
      "source": [
        "df.describe()"
      ],
      "metadata": {
        "execution": {
          "iopub.status.busy": "2025-05-07T01:16:47.064899Z",
          "iopub.execute_input": "2025-05-07T01:16:47.065238Z",
          "iopub.status.idle": "2025-05-07T01:16:47.107554Z",
          "shell.execute_reply.started": "2025-05-07T01:16:47.065213Z",
          "shell.execute_reply": "2025-05-07T01:16:47.106697Z"
        },
        "trusted": true,
        "id": "lnCvBJS8aPv4"
      },
      "outputs": [],
      "execution_count": null
    },
    {
      "cell_type": "code",
      "source": [
        "# Customer Analysis and EDA\n",
        "import numpy as np\n",
        "import pandas as pd\n",
        "import matplotlib.pyplot as plt\n",
        "import seaborn as sns\n",
        "# Machine Learning\n",
        "## Feature Scaling\n",
        "from sklearn.model_selection import train_test_split\n",
        "from sklearn.preprocessing import StandardScaler\n",
        "\n",
        "## ML Models Different Algorithms\n",
        "from sklearn.tree import DecisionTreeClassifier\n",
        "from sklearn.ensemble import RandomForestClassifier\n",
        "from sklearn.ensemble import GradientBoostingClassifier\n",
        "from sklearn.neighbors import KNeighborsClassifier\n",
        "\n",
        "## Metrics\n",
        "from sklearn.metrics import classification_report, confusion_matrix, ConfusionMatrixDisplay"
      ],
      "metadata": {
        "trusted": true,
        "execution": {
          "iopub.status.busy": "2025-05-07T01:16:47.108487Z",
          "iopub.execute_input": "2025-05-07T01:16:47.108844Z",
          "iopub.status.idle": "2025-05-07T01:16:48.685507Z",
          "shell.execute_reply.started": "2025-05-07T01:16:47.108815Z",
          "shell.execute_reply": "2025-05-07T01:16:48.684719Z"
        },
        "id": "6hScwlNlaPv4"
      },
      "outputs": [],
      "execution_count": null
    },
    {
      "cell_type": "code",
      "source": [
        "!pip install ptitprince"
      ],
      "metadata": {
        "trusted": true,
        "execution": {
          "iopub.status.busy": "2025-05-07T01:16:48.686462Z",
          "iopub.execute_input": "2025-05-07T01:16:48.686847Z",
          "iopub.status.idle": "2025-05-07T01:20:11.199916Z",
          "shell.execute_reply.started": "2025-05-07T01:16:48.686826Z",
          "shell.execute_reply": "2025-05-07T01:20:11.198773Z"
        },
        "id": "oy1DEsYtaPv5"
      },
      "outputs": [],
      "execution_count": null
    },
    {
      "cell_type": "markdown",
      "source": [
        "## Customer Analysis"
      ],
      "metadata": {
        "id": "_4NYr4oIaPv5"
      }
    },
    {
      "cell_type": "code",
      "source": [
        "df.hist(figsize=(15,15), bins=30, color='c')"
      ],
      "metadata": {
        "trusted": true,
        "execution": {
          "iopub.status.busy": "2025-05-07T01:20:11.201204Z",
          "iopub.execute_input": "2025-05-07T01:20:11.20158Z",
          "iopub.status.idle": "2025-05-07T01:20:13.457895Z",
          "shell.execute_reply.started": "2025-05-07T01:20:11.201535Z",
          "shell.execute_reply": "2025-05-07T01:20:13.456926Z"
        },
        "id": "1KbPdVtAaPv6"
      },
      "outputs": [],
      "execution_count": null
    },
    {
      "cell_type": "code",
      "source": [
        "sns.pairplot(df, hue=\"Churn\")"
      ],
      "metadata": {
        "trusted": true,
        "execution": {
          "iopub.status.busy": "2025-05-07T01:21:30.533699Z",
          "iopub.execute_input": "2025-05-07T01:21:30.534552Z",
          "iopub.status.idle": "2025-05-07T01:21:39.361831Z",
          "shell.execute_reply.started": "2025-05-07T01:21:30.534525Z",
          "shell.execute_reply": "2025-05-07T01:21:39.360405Z"
        },
        "id": "KurYu9Q-aPv6"
      },
      "outputs": [],
      "execution_count": null
    },
    {
      "cell_type": "code",
      "source": [
        "df[\"Churn\"].value_counts().plot(kind=\"pie\", title=\"All Over Churned Ratio\",\n",
        "                                labels = [\"Retained {:.2f} %\".format(len(df.loc[df.Churn==0])*100/len(df.Churn)),\n",
        "                                          \"Churned {:.2f} %\".format(len(df.loc[df.Churn==1])*100/len(df.Churn))],\n",
        "                                figsize=(4,4))"
      ],
      "metadata": {
        "trusted": true,
        "execution": {
          "iopub.status.busy": "2025-05-07T01:21:05.343679Z",
          "iopub.execute_input": "2025-05-07T01:21:05.343936Z",
          "iopub.status.idle": "2025-05-07T01:21:05.46715Z",
          "shell.execute_reply.started": "2025-05-07T01:21:05.343917Z",
          "shell.execute_reply": "2025-05-07T01:21:05.466426Z"
        },
        "id": "QjahWMFsaPv6"
      },
      "outputs": [],
      "execution_count": null
    },
    {
      "cell_type": "code",
      "source": [
        "sns.catplot(x=\"ContractRenewal\", y=\"CustServCalls\", hue=\"Churn\", kind=\"bar\", data=df)"
      ],
      "metadata": {
        "trusted": true,
        "jupyter": {
          "source_hidden": true
        },
        "execution": {
          "iopub.status.busy": "2025-05-07T01:21:05.468027Z",
          "iopub.execute_input": "2025-05-07T01:21:05.468243Z",
          "iopub.status.idle": "2025-05-07T01:21:05.891604Z",
          "shell.execute_reply.started": "2025-05-07T01:21:05.468227Z",
          "shell.execute_reply": "2025-05-07T01:21:05.89054Z"
        },
        "id": "6WP0rI6caPv6"
      },
      "outputs": [],
      "execution_count": null
    },
    {
      "cell_type": "code",
      "source": [
        "sns.catplot(x=\"DataPlan\", y=\"MonthlyCharge\", hue=\"Churn\", data=df)"
      ],
      "metadata": {
        "trusted": true,
        "execution": {
          "iopub.status.busy": "2025-05-07T01:21:05.893402Z",
          "iopub.execute_input": "2025-05-07T01:21:05.893707Z",
          "iopub.status.idle": "2025-05-07T01:21:06.355432Z",
          "shell.execute_reply.started": "2025-05-07T01:21:05.893683Z",
          "shell.execute_reply": "2025-05-07T01:21:06.35458Z"
        },
        "id": "KKz45tKgaPv6"
      },
      "outputs": [],
      "execution_count": null
    },
    {
      "cell_type": "code",
      "source": [
        "df1 = df.loc[df[\"Churn\"] == 1]  # Churned Customers\n",
        "df0 = df.loc[df[\"Churn\"] == 0]  # Existing Customers\n",
        "\n",
        "# Existing =0 and churned == 1\n",
        "\n",
        "print(\"Churned Customers (df1):\")\n",
        "print(df1.head())\n",
        "\n",
        "print(\"\\nExisting Customers (df0):\")\n",
        "print(df0.head())"
      ],
      "metadata": {
        "trusted": true,
        "execution": {
          "iopub.status.busy": "2025-05-07T01:21:06.356258Z",
          "iopub.execute_input": "2025-05-07T01:21:06.356532Z",
          "iopub.status.idle": "2025-05-07T01:21:06.372571Z",
          "shell.execute_reply.started": "2025-05-07T01:21:06.356513Z",
          "shell.execute_reply": "2025-05-07T01:21:06.371631Z"
        },
        "id": "lUDnMTWXaPv7"
      },
      "outputs": [],
      "execution_count": null
    },
    {
      "cell_type": "markdown",
      "source": [
        "## Daily Min vs Monthly charge"
      ],
      "metadata": {
        "id": "FUKEsqJdaPv7"
      }
    },
    {
      "cell_type": "code",
      "source": [
        "\n",
        "\n",
        "\n",
        "# Create the figure and subplots\n",
        "plt.figure(figsize=(20, 5))\n",
        "\n",
        "# Subplot 1: Churned Customers (Churn=1)\n",
        "plt.subplot(131)\n",
        "plt.scatter(df1[\"MonthlyCharge\"], df1[\"DayMins\"], color=\"cyan\", marker=\"o\", label=\"Churned\")\n",
        "plt.xlabel(\"Monthly Charge\")\n",
        "plt.ylabel(\"Day Mins\")\n",
        "plt.title(\"Monthly Charge vs. Day Mins (Churned Customers)\")\n",
        "plt.legend()\n",
        "plt.grid(True)\n",
        "\n",
        "# Subplot 2: Existing Customers (Churn=0)\n",
        "plt.subplot(132)\n",
        "plt.scatter(df0[\"MonthlyCharge\"], df0[\"DayMins\"], color=\"blue\", marker=\"o\", label=\"Existing\")\n",
        "plt.xlabel(\"Monthly Charge\")\n",
        "plt.ylabel(\"Day Mins\")\n",
        "plt.title(\"Monthly Charge vs. Day Mins (Existing Customers)\")\n",
        "plt.legend()\n",
        "plt.grid(True)\n",
        "\n",
        "# Subplot 3: All Customers (Churn=0 & 1)\n",
        "plt.subplot(133)\n",
        "plt.scatter(df[\"MonthlyCharge\"], df[\"DayMins\"], color=\"blue\", marker=\"o\", alpha=0.5, label=\"Existing (All)\")\n",
        "plt.scatter(df1[\"MonthlyCharge\"], df1[\"DayMins\"], color=\"red\", marker=\"o\", alpha=0.5, label=\"Churned (All)\")\n",
        "plt.xlabel(\"Monthly Charge\")\n",
        "plt.ylabel(\"Day Mins\")\n",
        "plt.title(\"Monthly Charge vs. Day Mins (All Customers)\")\n",
        "plt.legend()\n",
        "plt.grid(True)\n",
        "\n",
        "# Adjust layout to prevent overlapping titles\n",
        "plt.tight_layout()\n",
        "\n",
        "# Show the plot\n",
        "plt.show()"
      ],
      "metadata": {
        "trusted": true,
        "execution": {
          "iopub.status.busy": "2025-05-07T01:21:06.373718Z",
          "iopub.execute_input": "2025-05-07T01:21:06.374245Z",
          "iopub.status.idle": "2025-05-07T01:21:07.162189Z",
          "shell.execute_reply.started": "2025-05-07T01:21:06.374217Z",
          "shell.execute_reply": "2025-05-07T01:21:07.161317Z"
        },
        "id": "FskCIX5AaPv7"
      },
      "outputs": [],
      "execution_count": null
    },
    {
      "cell_type": "markdown",
      "source": [
        "## Data Usage vs Monthly Charge"
      ],
      "metadata": {
        "id": "W78w6poLaPv7"
      }
    },
    {
      "cell_type": "code",
      "source": [
        "# Assuming you have a DataFrame called 'df' with 'MonthlyCharge', 'DataUsage', and 'Churn' columns\n",
        "\n",
        "# Separate DataFrames for churned and existing customers\n",
        "df1 = df.loc[df[\"Churn\"] == 1]  # Churned Customers\n",
        "df0 = df.loc[df[\"Churn\"] == 0]  # Existing Customers\n",
        "\n",
        "# Create the figure and subplots\n",
        "plt.figure(figsize=(20, 5))\n",
        "\n",
        "# Subplot 1: Churned Customers (Churn=1)\n",
        "plt.subplot(131)\n",
        "plt.scatter(df1[\"MonthlyCharge\"], df1[\"DataUsage\"], color=\"cyan\", marker=\"o\", label=\"Churned\")\n",
        "plt.xlabel(\"MonthlyCharge\")\n",
        "plt.ylabel(\"DataUsage\")\n",
        "plt.title(\"Churn=1\")\n",
        "plt.grid(True)\n",
        "\n",
        "# Subplot 2: Existing Customers (Churn=0)\n",
        "plt.subplot(132)\n",
        "plt.scatter(df0[\"MonthlyCharge\"], df0[\"DataUsage\"], color=\"blue\", marker=\"o\", label=\"Existing\")\n",
        "plt.xlabel(\"MonthlyCharge\")\n",
        "plt.ylabel(\"DataUsage\")\n",
        "plt.title(\"Churn=0\")\n",
        "plt.grid(True)\n",
        "\n",
        "# Subplot 3: All Customers (Churn=0 & 1)\n",
        "plt.subplot(133)\n",
        "plt.scatter(df[\"MonthlyCharge\"], df[\"DataUsage\"], color=\"blue\", marker=\"o\", alpha=0.5, label=\"Existing (All)\")\n",
        "plt.scatter(df1[\"MonthlyCharge\"], df1[\"DataUsage\"], color=\"red\", marker=\"o\", alpha=0.5, label=\"Churned (All)\")\n",
        "plt.xlabel(\"MonthlyCharge\")\n",
        "plt.ylabel(\"DataUsage\")\n",
        "plt.title(\"Churn=0&1\")\n",
        "plt.grid(True)\n",
        "\n",
        "# Adjust layout to prevent overlapping titles\n",
        "plt.tight_layout()\n",
        "\n",
        "# Show the plot\n",
        "plt.show()"
      ],
      "metadata": {
        "trusted": true,
        "execution": {
          "iopub.status.busy": "2025-05-07T01:21:07.163181Z",
          "iopub.execute_input": "2025-05-07T01:21:07.163459Z",
          "iopub.status.idle": "2025-05-07T01:21:07.743626Z",
          "shell.execute_reply.started": "2025-05-07T01:21:07.163441Z",
          "shell.execute_reply": "2025-05-07T01:21:07.742679Z"
        },
        "id": "nA_lKcJJaPv7"
      },
      "outputs": [],
      "execution_count": null
    },
    {
      "cell_type": "markdown",
      "source": [
        " Insights from the Graph\n",
        "\n",
        "a)Low Data Usage Segment: There's a noticeable segment of customers (both churned and non-churned) who have very low data usage regardless of their monthly charge. This might indicate customers on basic plans or those who don't heavily utilize the data service.\n",
        "\n",
        "\n",
        "b)Correlation for Existing Customers: Among existing customers, there's a clear trend of higher monthly charges being associated with higher data usage, which is expected for tiered data plans.\n",
        "\n",
        "\n",
        "c)Churn Patterns: Churned customers seem to have a more scattered distribution, particularly at higher usage levels, compared to the more tightly clustered existing customers in that range. This might suggest that pricing or satisfaction at higher usage tiers could be a factor in churn. The low data usage churners might be on plans that don't meet their needs or find the cost unnecessary for their minimal usage.\n",
        "\n"
      ],
      "metadata": {
        "id": "dMZJiYrNaPv7"
      }
    },
    {
      "cell_type": "markdown",
      "source": [
        "## Customer Segmentation"
      ],
      "metadata": {
        "id": "4sw7lRxRaPv8"
      }
    },
    {
      "cell_type": "code",
      "source": [
        "# Manual Customer Segmentation\n",
        "seg1 = df.loc[df[\"DataUsage\"] <= 1]  # Segment1: Low Data Usage\n",
        "seg2 = df.loc[df[\"DataUsage\"] > 1]   # Segment2: High Data Usage\n",
        "\n",
        "seg11 = seg1.loc[seg1[\"Churn\"] == 1]  # Churned Customers from Segment1 (Low Data Usage)\n",
        "seg10 = seg1.loc[seg1[\"Churn\"] == 0]  # Existing Customers from Segment1 (Low Data Usage)\n",
        "\n",
        "seg21 = seg2.loc[seg2[\"Churn\"] == 1]  # Churned Customers in Segment2 (High Data Usage)\n",
        "seg20 = seg2.loc[seg2[\"Churn\"] == 0]  # Existing Customers in Segment2 (High Data Usage)"
      ],
      "metadata": {
        "trusted": true,
        "execution": {
          "iopub.status.busy": "2025-05-07T01:21:07.744712Z",
          "iopub.execute_input": "2025-05-07T01:21:07.745002Z",
          "iopub.status.idle": "2025-05-07T01:21:07.755088Z",
          "shell.execute_reply.started": "2025-05-07T01:21:07.74498Z",
          "shell.execute_reply": "2025-05-07T01:21:07.754389Z"
        },
        "id": "edRS0TFsaPv8"
      },
      "outputs": [],
      "execution_count": null
    },
    {
      "cell_type": "code",
      "source": [
        "import pandas as pd\n",
        "import matplotlib.pyplot as plt\n",
        "\n",
        "# Assuming you have a DataFrame called 'df' and the segmentation DataFrames:\n",
        "# seg1, seg2, seg11, seg10, seg21, seg20\n",
        "\n",
        "plt.figure(figsize=(20, 5))\n",
        "\n",
        "# Subplot 1: Customer Segments (All Customers)\n",
        "plt.subplot(131)\n",
        "plt.scatter(seg1['MonthlyCharge'], seg1['DataUsage'], marker='o', label='Segment 1 (Low Usage)')\n",
        "plt.scatter(seg2['MonthlyCharge'], seg2['DataUsage'], marker='o', label='Segment 2 (High Usage)')\n",
        "plt.title('Customer Segments')\n",
        "plt.xlabel('MonthlyCharge')\n",
        "plt.ylabel('DataUsage')\n",
        "plt.legend()\n",
        "plt.grid(True)\n",
        "\n",
        "# Subplot 2: Churn in Customer Segments\n",
        "plt.subplot(132)\n",
        "plt.scatter(seg11['MonthlyCharge'], seg11['DataUsage'], marker='o', label='Churned Segment 1 (Low Usage)')\n",
        "plt.scatter(seg21['MonthlyCharge'], seg21['DataUsage'], marker='o', label='Churned Segment 2 (High Usage)')\n",
        "plt.title('Churn in Customer Segments')\n",
        "plt.xlabel('MonthlyCharge')\n",
        "plt.ylabel('DataUsage')\n",
        "plt.legend()\n",
        "plt.grid(True)\n",
        "\n",
        "# Subplot 3: Existing Customers in Segments\n",
        "plt.subplot(133)\n",
        "plt.scatter(seg10['MonthlyCharge'], seg10['DataUsage'], marker='o', label='Existing Segment 1 (Low Usage)')\n",
        "plt.scatter(seg20['MonthlyCharge'], seg20['DataUsage'], marker='o', label='Existing Segment 2 (High Usage)')\n",
        "plt.title('Existing Customers in Segments')\n",
        "plt.xlabel('MonthlyCharge')\n",
        "plt.ylabel('DataUsage')\n",
        "plt.legend()\n",
        "plt.grid(True)\n",
        "\n",
        "plt.tight_layout()\n",
        "plt.show()"
      ],
      "metadata": {
        "trusted": true,
        "execution": {
          "iopub.status.busy": "2025-05-07T01:21:07.755978Z",
          "iopub.execute_input": "2025-05-07T01:21:07.756742Z",
          "iopub.status.idle": "2025-05-07T01:21:08.517078Z",
          "shell.execute_reply.started": "2025-05-07T01:21:07.75672Z",
          "shell.execute_reply": "2025-05-07T01:21:08.516335Z"
        },
        "id": "WG-3taoWaPv8"
      },
      "outputs": [],
      "execution_count": null
    },
    {
      "cell_type": "markdown",
      "source": [
        "\n",
        "The figure contains three scatter plots arranged side-by-side. Each subplot focuses on a different group of customers:\n",
        "\n",
        "Left Panel: Customer Segments (All Customers)\n",
        "\n",
        "This plot shows all your customers, regardless of whether they churned or not.\n",
        "The points are colored based on your manual segmentation of Data Usage:\n",
        "Blue: Segment 1 (Low Data Usage - DataUsage <= 1)\n",
        "Orange: Segment 2 (High Data Usage - DataUsage > 1)\n",
        "We can see the general distribution of these two data usage segments across different monthly charges. The majority of customers appear to be in the high data usage segment.\n",
        "Middle Panel: Churn in Customer Segments\n",
        "\n",
        "\n",
        "This plot shows only the customers who churned (Churn == 1).\n",
        "The points are again colored by the same Data Usage segments:\n",
        "Blue: Churned customers who were in Segment 1 (Low Data Usage)\n",
        "Orange: Churned customers who were in Segment 2 (High Data Usage)\n",
        "This panel helps us understand which data usage segment contributes more to churn and how monthly charge relates to churn within each segment.\n",
        "Right Panel: Existing Customers in Segments\n",
        "\n",
        "\n",
        "This plot shows only the customers who did not churn (Churn == 0).\n",
        "The points are colored by the Data Usage segments:\n",
        "Blue: Existing customers who are in Segment 1 (Low Data Usage)\n",
        "Orange: Existing customers who are in Segment 2 (High Data Usage)\n",
        "This panel shows the distribution of your current, retained customers across the two data usage segments and their monthly charges.\n",
        "Key Observations and Potential Insights:\n",
        "\n",
        "Prevalence of High Data Usage: Across all customers (left panel) and within both churned and existing customers, the orange points (High Data Usage - Segment 2) seem to be more numerous than the blue points (Low Data Usage - Segment 1). This suggests that a larger portion of your customer base uses more data.\n",
        "\n",
        "Low Data Usage Churn: In the middle panel (Churned Customers), there are a noticeable number of blue points (low data usage churners) across a range of monthly charges. This might indicate that customers with low data needs are churning for reasons potentially unrelated to high usage costs. They might find the service too expensive for their minimal use or have found cheaper alternatives.\n",
        "\n",
        "High Data Usage Churn: The orange points in the middle panel show churn among high data users. These churned customers tend to be at higher monthly charge levels, which is somewhat expected as higher data usage often correlates with more expensive plans. This could suggest that pricing sensitivity or competition is more of a factor for high data users.\n",
        "\n",
        "Retention of High Data Users: The right panel (Existing Customers) shows a strong cluster of orange points (retained high data users) at various monthly charge levels. This indicates that you are successfully retaining a significant portion of your high data usage customers.\n",
        "\n",
        "Retention of Low Data Users: The blue points in the right panel show retained low data users. Similar to the churned low data users, they are spread across different monthly charges."
      ],
      "metadata": {
        "id": "jbmZNz9XaPv8"
      }
    },
    {
      "cell_type": "code",
      "source": [
        "\n",
        "# Assuming you have 'df', 'seg1', 'seg2', 'seg10', 'seg11', 'seg20', 'seg21'\n",
        "\n",
        "plt.figure(figsize=(15, 6))\n",
        "\n",
        "# Subplot 1: Low Data Usage (Segment 1) - Churn vs. Existing\n",
        "plt.subplot(121)\n",
        "plt.scatter(seg10['MonthlyCharge'], seg10['DayMins'], label='Existing (Segment 1)', alpha=0.6)\n",
        "plt.scatter(seg11['MonthlyCharge'], seg11['DayMins'], color='red', label='Churned (Segment 1)', alpha=0.6)\n",
        "plt.xlabel('MonthlyCharge')\n",
        "plt.ylabel('DayMins')\n",
        "plt.title('Low Data Usage (Segment 1)')\n",
        "plt.legend()\n",
        "plt.grid(True)\n",
        "\n",
        "# Subplot 2: High Data Usage (Segment 2) - Churn vs. Existing\n",
        "plt.subplot(122)\n",
        "plt.scatter(seg20['MonthlyCharge'], seg20['DayMins'], label='Existing (Segment 2)', alpha=0.6)\n",
        "plt.scatter(seg21['MonthlyCharge'], seg21['DayMins'], color='red', label='Churned (Segment 2)', alpha=0.6)\n",
        "plt.xlabel('MonthlyCharge')\n",
        "plt.ylabel('DayMins')\n",
        "plt.title('High Data Usage (Segment 2)')\n",
        "plt.legend()\n",
        "plt.grid(True)\n",
        "\n",
        "plt.tight_layout()\n",
        "plt.show()"
      ],
      "metadata": {
        "trusted": true,
        "execution": {
          "iopub.status.busy": "2025-05-07T01:21:08.518168Z",
          "iopub.execute_input": "2025-05-07T01:21:08.518823Z",
          "iopub.status.idle": "2025-05-07T01:21:09.121059Z",
          "shell.execute_reply.started": "2025-05-07T01:21:08.518795Z",
          "shell.execute_reply": "2025-05-07T01:21:09.120224Z"
        },
        "id": "FbmnKWlvaPv8"
      },
      "outputs": [],
      "execution_count": null
    },
    {
      "cell_type": "markdown",
      "source": [
        "a)Positive Correlation: For both data usage segments, customers with higher monthly charges tend to use more daytime minutes.\n",
        "\n",
        "\n",
        "b)Overlap: There's a significant overlap in the Monthly Charge vs. Day Mins relationship between existing and churned customers within both low and high data usage segments. This suggests that these two variables alone might not be strong predictors of churn within these defined usage groups.\n",
        "\n"
      ],
      "metadata": {
        "id": "oR29tMAXaPv8"
      }
    },
    {
      "cell_type": "markdown",
      "source": [
        "## Segment 1- Customers who's usage is 0-1."
      ],
      "metadata": {
        "id": "5UqeiHw6aPv8"
      }
    },
    {
      "cell_type": "code",
      "source": [
        "seg1"
      ],
      "metadata": {
        "trusted": true,
        "execution": {
          "iopub.status.busy": "2025-05-07T01:21:09.121991Z",
          "iopub.execute_input": "2025-05-07T01:21:09.122274Z",
          "iopub.status.idle": "2025-05-07T01:21:09.137944Z",
          "shell.execute_reply.started": "2025-05-07T01:21:09.122253Z",
          "shell.execute_reply": "2025-05-07T01:21:09.137029Z"
        },
        "id": "8X9CTTQBaPv9"
      },
      "outputs": [],
      "execution_count": null
    },
    {
      "cell_type": "code",
      "source": [
        "# % of customer churn in seg1\n",
        "seg1[\"Churn\"].value_counts(normalize=True) * 100"
      ],
      "metadata": {
        "trusted": true,
        "execution": {
          "iopub.status.busy": "2025-05-07T01:21:09.138973Z",
          "iopub.execute_input": "2025-05-07T01:21:09.139865Z",
          "iopub.status.idle": "2025-05-07T01:21:09.152636Z",
          "shell.execute_reply.started": "2025-05-07T01:21:09.139842Z",
          "shell.execute_reply": "2025-05-07T01:21:09.151862Z"
        },
        "id": "r9uPRufbaPv9"
      },
      "outputs": [],
      "execution_count": null
    },
    {
      "cell_type": "markdown",
      "source": [
        " The percentage of customers who churned within the subset of your data called \"seg1\""
      ],
      "metadata": {
        "id": "DwGMpcgGaPv9"
      }
    },
    {
      "cell_type": "code",
      "source": [
        "# % of customer having data plan in seg1\n",
        "(seg1[\"DataPlan\"].value_counts(normalize=True) * 100)"
      ],
      "metadata": {
        "trusted": true,
        "execution": {
          "iopub.status.busy": "2025-05-07T01:21:09.153404Z",
          "iopub.execute_input": "2025-05-07T01:21:09.153616Z",
          "iopub.status.idle": "2025-05-07T01:21:09.17066Z",
          "shell.execute_reply.started": "2025-05-07T01:21:09.1536Z",
          "shell.execute_reply": "2025-05-07T01:21:09.16967Z"
        },
        "id": "oZwnpItHaPv9"
      },
      "outputs": [],
      "execution_count": null
    },
    {
      "cell_type": "code",
      "source": [
        "# list of customer having data plan in seg1, 9 customers\n",
        "seg1.loc[seg1[\"DataPlan\"]==1]"
      ],
      "metadata": {
        "trusted": true,
        "execution": {
          "iopub.status.busy": "2025-05-07T01:21:09.171885Z",
          "iopub.execute_input": "2025-05-07T01:21:09.172901Z",
          "iopub.status.idle": "2025-05-07T01:21:09.197408Z",
          "shell.execute_reply.started": "2025-05-07T01:21:09.172874Z",
          "shell.execute_reply": "2025-05-07T01:21:09.196431Z"
        },
        "id": "pW85jm7faPv9"
      },
      "outputs": [],
      "execution_count": null
    },
    {
      "cell_type": "code",
      "source": [
        "plt.figure(figsize=(20,5))\n",
        "\n",
        "plt.subplot(131)\n",
        "plt.plot(seg11[\"MonthlyCharge\"], seg11[\"DayMins\"], \"co\")\n",
        "plt.xlabel(\"Monthly Charge\")\n",
        "plt.ylabel(\"Day Mins\")\n",
        "plt.title(\"Churn=1\")\n",
        "\n",
        "plt.subplot(132)\n",
        "plt.plot(seg10[\"MonthlyCharge\"], seg10[\"DayMins\"], \"o\")\n",
        "plt.xlabel(\"Monthly Charge\")\n",
        "plt.ylabel(\"Day Mins\")\n",
        "plt.title(\"Churn=0\")\n",
        "\n",
        "plt.subplot(133)\n",
        "plt.plot(seg1[\"MonthlyCharge\"], seg1[\"DayMins\"], \"o\")\n",
        "plt.xlabel(\"Monthly Charge\")\n",
        "plt.ylabel(\"Day Mins\")\n",
        "plt.title(\"Churn=0&1\")"
      ],
      "metadata": {
        "trusted": true,
        "execution": {
          "iopub.status.busy": "2025-05-07T01:21:09.198319Z",
          "iopub.execute_input": "2025-05-07T01:21:09.198728Z",
          "iopub.status.idle": "2025-05-07T01:21:09.792922Z",
          "shell.execute_reply.started": "2025-05-07T01:21:09.198683Z",
          "shell.execute_reply": "2025-05-07T01:21:09.791998Z"
        },
        "id": "xcSIZ6h7aPv9"
      },
      "outputs": [],
      "execution_count": null
    },
    {
      "cell_type": "code",
      "source": [
        "plt.figure(figsize=(20,5))\n",
        "\n",
        "plt.subplot(131)\n",
        "plt.plot(seg11[\"MonthlyCharge\"], seg11[\"DataUsage\"], \"co\")\n",
        "plt.xlabel(\"MonthlyCharge\")\n",
        "plt.ylabel(\"DataUsage\")\n",
        "plt.title(\"Churn=1\")\n",
        "\n",
        "plt.subplot(132)\n",
        "plt.plot(seg10[\"MonthlyCharge\"], seg10[\"DataUsage\"], \"o\")\n",
        "plt.xlabel(\"MonthlyCharge\")\n",
        "plt.ylabel(\"DataUsage\")\n",
        "plt.title(\"Churn=0\")\n",
        "\n",
        "plt.subplot(133)\n",
        "plt.plot(seg1[\"MonthlyCharge\"], seg1[\"DataUsage\"], \"o\")\n",
        "plt.xlabel(\"MonthlyCharge\")\n",
        "plt.ylabel(\"DataUsage\")\n",
        "plt.title(\"Churn=0&1\")"
      ],
      "metadata": {
        "trusted": true,
        "execution": {
          "iopub.status.busy": "2025-05-07T01:21:09.79391Z",
          "iopub.execute_input": "2025-05-07T01:21:09.794148Z",
          "iopub.status.idle": "2025-05-07T01:21:10.348291Z",
          "shell.execute_reply.started": "2025-05-07T01:21:09.794131Z",
          "shell.execute_reply": "2025-05-07T01:21:10.347435Z"
        },
        "id": "Lfss77iJaPv9"
      },
      "outputs": [],
      "execution_count": null
    },
    {
      "cell_type": "markdown",
      "source": [
        "More on zero data usage customers"
      ],
      "metadata": {
        "id": "R3e_syoqaPv9"
      }
    },
    {
      "cell_type": "code",
      "source": [
        "dataus0 = seg1.loc[seg1[\"DataUsage\"]==0] # Customers with Data Usage zero in seg1.\n",
        "\n",
        "dataus00 = dataus0.loc[dataus0[\"Churn\"]==0] # Existing Customers with Data Usage zero in seg1.\n",
        "dataus01 = dataus0.loc[dataus0[\"Churn\"]==1] # Churned Customers with Data Usage zero in seg1.\n",
        "\n",
        "plt.figure(figsize=(20,5))\n",
        "\n",
        "plt.subplot(131)\n",
        "plt.plot(dataus01[\"MonthlyCharge\"], dataus01[\"DayMins\"], \"co\")\n",
        "plt.xlabel(\"MonthlyCharge\")\n",
        "plt.ylabel(\"DayMins\")\n",
        "plt.title(\"Churn=1\")\n",
        "\n",
        "plt.subplot(132)\n",
        "plt.plot(dataus00[\"MonthlyCharge\"], dataus00[\"DayMins\"], \"o\")\n",
        "plt.xlabel(\"MonthlyCharge\")\n",
        "plt.ylabel(\"DayMins\")\n",
        "plt.title(\"Churn=0\")\n",
        "\n",
        "plt.subplot(133)\n",
        "plt.plot(dataus0[\"MonthlyCharge\"], dataus0[\"DayMins\"], \"o\")\n",
        "plt.xlabel(\"MonthlyCharge\")\n",
        "plt.ylabel(\"DayMins\")\n",
        "plt.title(\"Churn=0&1\")"
      ],
      "metadata": {
        "trusted": true,
        "execution": {
          "iopub.status.busy": "2025-05-07T01:21:10.349534Z",
          "iopub.execute_input": "2025-05-07T01:21:10.349834Z",
          "iopub.status.idle": "2025-05-07T01:21:10.930252Z",
          "shell.execute_reply.started": "2025-05-07T01:21:10.349808Z",
          "shell.execute_reply": "2025-05-07T01:21:10.929264Z"
        },
        "id": "Eyeaonh3aPv-"
      },
      "outputs": [],
      "execution_count": null
    },
    {
      "cell_type": "code",
      "source": [
        "dataus0"
      ],
      "metadata": {
        "trusted": true,
        "execution": {
          "iopub.status.busy": "2025-05-07T01:21:10.931192Z",
          "iopub.execute_input": "2025-05-07T01:21:10.931442Z",
          "iopub.status.idle": "2025-05-07T01:21:10.946138Z",
          "shell.execute_reply.started": "2025-05-07T01:21:10.931422Z",
          "shell.execute_reply": "2025-05-07T01:21:10.945396Z"
        },
        "id": "1bN0Bqd-aPv-"
      },
      "outputs": [],
      "execution_count": null
    },
    {
      "cell_type": "code",
      "source": [
        "# % churn in customers with zero data usage in seg1\n",
        "dataus0['Churn'].value_counts(normalize=True) * 100"
      ],
      "metadata": {
        "trusted": true,
        "execution": {
          "iopub.status.busy": "2025-05-07T01:21:10.950662Z",
          "iopub.execute_input": "2025-05-07T01:21:10.95091Z",
          "iopub.status.idle": "2025-05-07T01:21:10.962487Z",
          "shell.execute_reply.started": "2025-05-07T01:21:10.950893Z",
          "shell.execute_reply": "2025-05-07T01:21:10.961734Z"
        },
        "id": "pfkOyrNGaPv-"
      },
      "outputs": [],
      "execution_count": null
    },
    {
      "cell_type": "code",
      "source": [
        "plt.figure(figsize=(8,5))\n",
        "df[\"AccountWeeks\"].hist(bins=30, alpha=0.5, label='Account weeks all users')\n",
        "seg1[\"AccountWeeks\"].hist(bins=30, alpha=0.5, label='Seg1 account weeks')\n",
        "dataus0[\"AccountWeeks\"].hist(bins=30, alpha=0.5, label='Data usage zero account weeks')\n",
        "seg2[\"AccountWeeks\"].hist(bins=30, alpha=0.5, label='Seg2 account weeks')\n",
        "plt.legend()"
      ],
      "metadata": {
        "trusted": true,
        "execution": {
          "iopub.status.busy": "2025-05-07T01:21:10.963184Z",
          "iopub.execute_input": "2025-05-07T01:21:10.963407Z",
          "iopub.status.idle": "2025-05-07T01:21:11.380384Z",
          "shell.execute_reply.started": "2025-05-07T01:21:10.963386Z",
          "shell.execute_reply": "2025-05-07T01:21:11.379499Z"
        },
        "id": "YGCKLkUpaPwC"
      },
      "outputs": [],
      "execution_count": null
    },
    {
      "cell_type": "markdown",
      "source": [
        "Data users within segemet 1"
      ],
      "metadata": {
        "id": "Y2nd8iXVaPwC"
      }
    },
    {
      "cell_type": "code",
      "source": [
        "dataus = seg1.loc[seg1[\"DataUsage\"]>0]\n",
        "dataus"
      ],
      "metadata": {
        "trusted": true,
        "execution": {
          "iopub.status.busy": "2025-05-07T01:21:11.381292Z",
          "iopub.execute_input": "2025-05-07T01:21:11.381637Z",
          "iopub.status.idle": "2025-05-07T01:21:11.397254Z",
          "shell.execute_reply.started": "2025-05-07T01:21:11.381606Z",
          "shell.execute_reply": "2025-05-07T01:21:11.3964Z"
        },
        "id": "ZJ_CWFTPaPwC"
      },
      "outputs": [],
      "execution_count": null
    },
    {
      "cell_type": "code",
      "source": [
        "plt.figure(figsize=(8,5))\n",
        "df[\"AccountWeeks\"].hist(bins=30, label='Account Weeks All Users')\n",
        "dataus[\"AccountWeeks\"].hist(bins=30, label='Account Weeks Data Users in Seg1')\n",
        "plt.legend()"
      ],
      "metadata": {
        "trusted": true,
        "execution": {
          "iopub.status.busy": "2025-05-07T01:21:11.398243Z",
          "iopub.execute_input": "2025-05-07T01:21:11.398647Z",
          "iopub.status.idle": "2025-05-07T01:21:11.685273Z",
          "shell.execute_reply.started": "2025-05-07T01:21:11.398619Z",
          "shell.execute_reply": "2025-05-07T01:21:11.684569Z"
        },
        "id": "MDfhDuijaPwD"
      },
      "outputs": [],
      "execution_count": null
    },
    {
      "cell_type": "code",
      "source": [
        "# % Churn in Custoemrs with data usege in seg1\n",
        "dataus[\"Churn\"].value_counts(normalize=True) * 100"
      ],
      "metadata": {
        "trusted": true,
        "execution": {
          "iopub.status.busy": "2025-05-07T01:21:11.686143Z",
          "iopub.execute_input": "2025-05-07T01:21:11.686501Z",
          "iopub.status.idle": "2025-05-07T01:21:11.692802Z",
          "shell.execute_reply.started": "2025-05-07T01:21:11.686481Z",
          "shell.execute_reply": "2025-05-07T01:21:11.692072Z"
        },
        "id": "4XFKBqYDaPwD"
      },
      "outputs": [],
      "execution_count": null
    },
    {
      "cell_type": "markdown",
      "source": [
        "## Segment 2 : Customers who's data usage is >1."
      ],
      "metadata": {
        "id": "HKTxCei4aPwD"
      }
    },
    {
      "cell_type": "code",
      "source": [
        "seg2"
      ],
      "metadata": {
        "trusted": true,
        "execution": {
          "iopub.status.busy": "2025-05-07T01:21:11.693589Z",
          "iopub.execute_input": "2025-05-07T01:21:11.693843Z",
          "iopub.status.idle": "2025-05-07T01:21:11.725443Z",
          "shell.execute_reply.started": "2025-05-07T01:21:11.693825Z",
          "shell.execute_reply": "2025-05-07T01:21:11.724542Z"
        },
        "id": "XnXnYRUUaPwD"
      },
      "outputs": [],
      "execution_count": null
    },
    {
      "cell_type": "code",
      "source": [
        "# % Churn in seg2.\n",
        "seg2[\"Churn\"].value_counts(normalize=True) * 100"
      ],
      "metadata": {
        "trusted": true,
        "execution": {
          "iopub.status.busy": "2025-05-07T01:21:11.726544Z",
          "iopub.execute_input": "2025-05-07T01:21:11.726851Z",
          "iopub.status.idle": "2025-05-07T01:21:11.741066Z",
          "shell.execute_reply.started": "2025-05-07T01:21:11.726826Z",
          "shell.execute_reply": "2025-05-07T01:21:11.740474Z"
        },
        "id": "QmXc9vrJaPwD"
      },
      "outputs": [],
      "execution_count": null
    },
    {
      "cell_type": "code",
      "source": [
        "# Every custoemrs has data plan in seg2\n",
        "seg2[\"DataPlan\"].value_counts()"
      ],
      "metadata": {
        "trusted": true,
        "execution": {
          "iopub.status.busy": "2025-05-07T01:21:11.741959Z",
          "iopub.execute_input": "2025-05-07T01:21:11.742232Z",
          "iopub.status.idle": "2025-05-07T01:21:11.759517Z",
          "shell.execute_reply.started": "2025-05-07T01:21:11.742213Z",
          "shell.execute_reply": "2025-05-07T01:21:11.758856Z"
        },
        "id": "uUYsAvq2aPwD"
      },
      "outputs": [],
      "execution_count": null
    },
    {
      "cell_type": "code",
      "source": [
        "seg20[\"DayMins\"].hist(bins=30, label='Seg2 DayMins of Retained')\n",
        "seg21[\"DayMins\"].hist(bins=30, label='Seg2 DayMins of Churned')\n",
        "plt.legend()"
      ],
      "metadata": {
        "trusted": true,
        "execution": {
          "iopub.status.busy": "2025-05-07T01:21:11.760317Z",
          "iopub.execute_input": "2025-05-07T01:21:11.760575Z",
          "iopub.status.idle": "2025-05-07T01:21:12.057174Z",
          "shell.execute_reply.started": "2025-05-07T01:21:11.760557Z",
          "shell.execute_reply": "2025-05-07T01:21:12.056411Z"
        },
        "id": "jdz9S9EBaPwD"
      },
      "outputs": [],
      "execution_count": null
    },
    {
      "cell_type": "markdown",
      "source": [
        "Segment 2 Data Usage"
      ],
      "metadata": {
        "id": "tPC4LPQIaPwD"
      }
    },
    {
      "cell_type": "code",
      "source": [
        "plt.figure(figsize=(20,5))\n",
        "\n",
        "plt.subplot(131)\n",
        "plt.plot(seg21[\"MonthlyCharge\"], seg21[\"DataUsage\"], \"co\")\n",
        "plt.xlabel(\"MonthlyCharge\")\n",
        "plt.ylabel(\"DataUsage\")\n",
        "plt.title(\"Churn=1\")\n",
        "\n",
        "plt.subplot(132)\n",
        "plt.plot(seg20[\"MonthlyCharge\"], seg20[\"DataUsage\"], \"o\")\n",
        "plt.xlabel(\"MonthlyCharge\")\n",
        "plt.ylabel(\"DataUsage\")\n",
        "plt.title(\"Churn=0\")\n",
        "\n",
        "plt.subplot(133)\n",
        "plt.plot(seg2[\"MonthlyCharge\"], seg2[\"DataUsage\"], \"o\")\n",
        "plt.xlabel(\"MonthlyCharge\")\n",
        "plt.ylabel(\"DataUsage\")\n",
        "plt.title(\"Churn=0&1\")"
      ],
      "metadata": {
        "trusted": true,
        "execution": {
          "iopub.status.busy": "2025-05-07T01:21:12.058092Z",
          "iopub.execute_input": "2025-05-07T01:21:12.058454Z",
          "iopub.status.idle": "2025-05-07T01:21:12.633977Z",
          "shell.execute_reply.started": "2025-05-07T01:21:12.058416Z",
          "shell.execute_reply": "2025-05-07T01:21:12.633115Z"
        },
        "id": "sbW1BVcoaPwD"
      },
      "outputs": [],
      "execution_count": null
    },
    {
      "cell_type": "code",
      "source": [
        "plt.plot(seg2[\"MonthlyCharge\"], seg2[\"DataUsage\"], \"o\")\n",
        "plt.plot(seg21[\"MonthlyCharge\"], seg21[\"DataUsage\"], \"o\")"
      ],
      "metadata": {
        "trusted": true,
        "execution": {
          "iopub.status.busy": "2025-05-07T01:21:12.635091Z",
          "iopub.execute_input": "2025-05-07T01:21:12.635435Z",
          "iopub.status.idle": "2025-05-07T01:21:12.802638Z",
          "shell.execute_reply.started": "2025-05-07T01:21:12.635413Z",
          "shell.execute_reply": "2025-05-07T01:21:12.801591Z"
        },
        "id": "gZ3S4bDoaPwE"
      },
      "outputs": [],
      "execution_count": null
    },
    {
      "cell_type": "code",
      "source": [
        "sns.boxplot(x=\"Churn\", y=\"MonthlyCharge\", data=seg2)"
      ],
      "metadata": {
        "trusted": true,
        "execution": {
          "iopub.status.busy": "2025-05-07T01:21:12.803589Z",
          "iopub.execute_input": "2025-05-07T01:21:12.804427Z",
          "iopub.status.idle": "2025-05-07T01:21:12.953578Z",
          "shell.execute_reply.started": "2025-05-07T01:21:12.8044Z",
          "shell.execute_reply": "2025-05-07T01:21:12.95281Z"
        },
        "id": "8k5vFefOaPwE"
      },
      "outputs": [],
      "execution_count": null
    },
    {
      "cell_type": "code",
      "source": [
        "plt.figure(figsize=(8,5))\n",
        "seg20[\"DataUsage\"].hist(bins=30, label='Seg2 Data Usage for Churn=0')\n",
        "seg21[\"DataUsage\"].hist(bins=30, label='Seg2 Data Usage for Churn=1')\n",
        "plt.legend()"
      ],
      "metadata": {
        "trusted": true,
        "execution": {
          "iopub.status.busy": "2025-05-07T01:21:12.95436Z",
          "iopub.execute_input": "2025-05-07T01:21:12.95468Z",
          "iopub.status.idle": "2025-05-07T01:21:13.236956Z",
          "shell.execute_reply.started": "2025-05-07T01:21:12.954652Z",
          "shell.execute_reply": "2025-05-07T01:21:13.236139Z"
        },
        "id": "GKZcBe3xaPwE"
      },
      "outputs": [],
      "execution_count": null
    },
    {
      "cell_type": "code",
      "source": [
        "plt.figure(figsize=(8,5))\n",
        "seg20[\"MonthlyCharge\"].hist(bins=30, label='Seg2 Monthly Charge for Churn=0')\n",
        "seg21[\"MonthlyCharge\"].hist(bins=30, label='Seg2 Monthly Charge for Churn=1')\n",
        "plt.legend()"
      ],
      "metadata": {
        "trusted": true,
        "execution": {
          "iopub.status.busy": "2025-05-07T01:21:13.237864Z",
          "iopub.execute_input": "2025-05-07T01:21:13.238165Z",
          "iopub.status.idle": "2025-05-07T01:21:13.845807Z",
          "shell.execute_reply.started": "2025-05-07T01:21:13.238125Z",
          "shell.execute_reply": "2025-05-07T01:21:13.844951Z"
        },
        "id": "eBDysrKdaPwE"
      },
      "outputs": [],
      "execution_count": null
    },
    {
      "cell_type": "code",
      "source": [
        "plt.figure(figsize=(8,5))\n",
        "seg20[\"RoamMins\"].hist(bins=30, label='Seg2 Roam Min for Churn=0')\n",
        "seg21[\"RoamMins\"].hist(bins=30, label='Seg2 Roam Min for Churn=1')\n",
        "plt.legend()"
      ],
      "metadata": {
        "trusted": true,
        "execution": {
          "iopub.status.busy": "2025-05-07T01:21:13.846629Z",
          "iopub.execute_input": "2025-05-07T01:21:13.846935Z",
          "iopub.status.idle": "2025-05-07T01:21:14.152086Z",
          "shell.execute_reply.started": "2025-05-07T01:21:13.846915Z",
          "shell.execute_reply": "2025-05-07T01:21:14.151206Z"
        },
        "id": "LRpUO4lHaPwE"
      },
      "outputs": [],
      "execution_count": null
    },
    {
      "cell_type": "code",
      "source": [
        "plt.figure(figsize=(8,5))\n",
        "seg20[\"AccountWeeks\"].hist(bins=30, label='Seg2 Account Weeks for Churn=0')\n",
        "seg21[\"AccountWeeks\"].hist(bins=30, label='Seg2 Account Weeks for Churn=1')\n",
        "plt.legend()"
      ],
      "metadata": {
        "trusted": true,
        "execution": {
          "iopub.status.busy": "2025-05-07T01:21:14.153096Z",
          "iopub.execute_input": "2025-05-07T01:21:14.153451Z",
          "iopub.status.idle": "2025-05-07T01:21:14.452426Z",
          "shell.execute_reply.started": "2025-05-07T01:21:14.153421Z",
          "shell.execute_reply": "2025-05-07T01:21:14.451562Z"
        },
        "id": "PczsE-_IaPwE"
      },
      "outputs": [],
      "execution_count": null
    },
    {
      "cell_type": "markdown",
      "source": [
        "## Seg 1 & Seg2 DayMins"
      ],
      "metadata": {
        "id": "7c1TtiQ4aPwE"
      }
    },
    {
      "cell_type": "code",
      "source": [
        "seg1['DayMins'].hist(bins=30, label='Seg1 Day Mins')\n",
        "seg2['DayMins'].hist(bins=30, label='Seg2 Day Mins')\n",
        "plt.legend()"
      ],
      "metadata": {
        "trusted": true,
        "execution": {
          "iopub.status.busy": "2025-05-07T01:21:14.453307Z",
          "iopub.execute_input": "2025-05-07T01:21:14.453676Z",
          "iopub.status.idle": "2025-05-07T01:21:14.733058Z",
          "shell.execute_reply.started": "2025-05-07T01:21:14.453648Z",
          "shell.execute_reply": "2025-05-07T01:21:14.731986Z"
        },
        "id": "P2sM1VfSaPwE"
      },
      "outputs": [],
      "execution_count": null
    },
    {
      "cell_type": "code",
      "source": [
        "seg1['DayMins'].mean()"
      ],
      "metadata": {
        "trusted": true,
        "execution": {
          "iopub.status.busy": "2025-05-07T01:21:14.734267Z",
          "iopub.execute_input": "2025-05-07T01:21:14.734579Z",
          "iopub.status.idle": "2025-05-07T01:21:14.74095Z",
          "shell.execute_reply.started": "2025-05-07T01:21:14.734551Z",
          "shell.execute_reply": "2025-05-07T01:21:14.739866Z"
        },
        "id": "_dPVHlvOaPwE"
      },
      "outputs": [],
      "execution_count": null
    },
    {
      "cell_type": "code",
      "source": [
        "seg2['DayMins'].mean()"
      ],
      "metadata": {
        "trusted": true,
        "execution": {
          "iopub.status.busy": "2025-05-07T01:21:14.741866Z",
          "iopub.execute_input": "2025-05-07T01:21:14.742185Z",
          "iopub.status.idle": "2025-05-07T01:21:14.756565Z",
          "shell.execute_reply.started": "2025-05-07T01:21:14.74216Z",
          "shell.execute_reply": "2025-05-07T01:21:14.755587Z"
        },
        "id": "sIFIc84taPwF"
      },
      "outputs": [],
      "execution_count": null
    },
    {
      "cell_type": "code",
      "source": [
        "plt.figure(figsize=(15,5))\n",
        "\n",
        "plt.subplot(121)\n",
        "seg10[\"DayMins\"].hist(bins=30, alpha=0.5, label='Seg1 Day Mins Churn=0')\n",
        "seg11[\"DayMins\"].hist(bins=30, alpha=0.5, label='Seg1 Day Mins Churn=1')\n",
        "plt.legend()\n",
        "\n",
        "plt.subplot(122)\n",
        "seg10[\"DataUsage\"].hist(label='Seg1 data usage Churn=0')\n",
        "seg11[\"DataUsage\"].hist(label='Seg1 data usage Churn=1')\n",
        "plt.legend()"
      ],
      "metadata": {
        "trusted": true,
        "execution": {
          "iopub.status.busy": "2025-05-07T01:21:14.757437Z",
          "iopub.execute_input": "2025-05-07T01:21:14.757702Z",
          "iopub.status.idle": "2025-05-07T01:21:15.283043Z",
          "shell.execute_reply.started": "2025-05-07T01:21:14.757685Z",
          "shell.execute_reply": "2025-05-07T01:21:15.282248Z"
        },
        "id": "MV6r7fUVaPwF"
      },
      "outputs": [],
      "execution_count": null
    },
    {
      "cell_type": "code",
      "source": [
        "plt.figure(figsize=(20,4))\n",
        "ptitprince.RainCloud(data = df, x = 'Churn', y = 'DataUsage', orient = 'h')"
      ],
      "metadata": {
        "trusted": true,
        "execution": {
          "iopub.status.busy": "2025-05-07T01:21:15.284073Z",
          "iopub.execute_input": "2025-05-07T01:21:15.28439Z",
          "iopub.status.idle": "2025-05-07T01:21:15.448448Z",
          "shell.execute_reply.started": "2025-05-07T01:21:15.284338Z",
          "shell.execute_reply": "2025-05-07T01:21:15.447093Z"
        },
        "id": "dsifaPx8aPwF"
      },
      "outputs": [],
      "execution_count": null
    }
  ]
}